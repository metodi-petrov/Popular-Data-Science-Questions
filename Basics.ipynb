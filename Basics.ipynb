{
 "cells": [
  {
   "cell_type": "markdown",
   "metadata": {},
   "source": [
    "# What Do People Want To Learn About in Data Science?"
   ]
  },
  {
   "cell_type": "markdown",
   "metadata": {},
   "source": [
    "### Introduction\n",
    "\n",
    "We are working for a company that creates data science content, be it books, online articles, videos or interactive text-based platforms like Dataquest.\n",
    "\n",
    "** We are given a taks of figuring out what is that people are most interested in learning in Data Science and  what is the best content to write about.**\n",
    "\n",
    "We decided to investigate Stack Overflow for possible answers. Doing so we find out that Stack Overflow is part of a question and answer website network called Stack Exchange.\n",
    "\n",
    "ack Exchange hosts sites on a multitude of fields and subjects, including mathematics, physics, philosophy, and data science! Here's a sample of the most popular sites:"
   ]
  },
  {
   "cell_type": "code",
   "execution_count": null,
   "metadata": {
    "collapsed": true
   },
   "outputs": [],
   "source": []
  },
  {
   "cell_type": "code",
   "execution_count": 177,
   "metadata": {
    "collapsed": false
   },
   "outputs": [
    {
     "data": {
      "text/html": [
       "<img src=\"https://dq-content.s3.amazonaws.com/469/se_sites.png\" width=\"530\" height=\"970\"/>"
      ],
      "text/plain": [
       "<IPython.core.display.Image object>"
      ]
     },
     "execution_count": 177,
     "metadata": {},
     "output_type": "execute_result"
    }
   ],
   "source": [
    "from IPython.display import Image\n",
    "Image(url=\"https://dq-content.s3.amazonaws.com/469/se_sites.png\", height=970, width=530)\n"
   ]
  },
  {
   "cell_type": "markdown",
   "metadata": {},
   "source": [
    "Stack Exchange employs a reputation award system for its questions and answers. Each post — each question/answer — is a post that is subject to upvotes and downvotes. This ensures that good posts are easily identifiable.\n",
    "Luckyli for us there is a site in Stack Exchanged called  [Data Science Stack Exchange](https://datascience.stackexchange.com) (DSSE), it is a data science dedicated site (contrarily to the others), coupled with it having a lot of unanswered questions, makes it an ideal candidate for this investigation. DSSE will be the focus of this guided project."
   ]
  },
  {
   "cell_type": "markdown",
   "metadata": {},
   "source": [
    "### Data Science Stack Exchange"
   ]
  },
  {
   "cell_type": "markdown",
   "metadata": {},
   "source": [
    "Data Science webpage is divided into following sections:\n",
    "* Home - Homepage of the site\n",
    "* Questions - List of all the questions that were asked, with lots of sorting options available\n",
    "* Tags - short keywords (labeled light blues squares) used to categorize the content\n",
    "* Users - all the user active on the website withe links to their profiles\n",
    "* Unanswered - list of all questions that are still unanswered\n"
   ]
  },
  {
   "cell_type": "markdown",
   "metadata": {},
   "source": [
    "### Getting the Data"
   ]
  },
  {
   "cell_type": "markdown",
   "metadata": {},
   "source": [
    "Stack Exchange provides a public data base for each of its websites. [Here's](https://data.stackexchange.com/datascience/query/new) a link to query and explore Data Science Stack Exchange's database.\n",
    "Looking at the Stack Exchange Data Explorer (SEDE) we see there are total of 29 databases from the database schema. Below is a screenshot witth some of the names of the tables:\n",
    "![Image](https://dq-content.s3.amazonaws.com/469/dsde.png)"
   ]
  },
  {
   "cell_type": "markdown",
   "metadata": {},
   "source": [
    "Following tables might be of use to our project:\n",
    "* Posts - data on all posts, icluding questions and answers\n",
    "* Comments - cointains data on all comments, both on questions and answer posts\n",
    "* Tags - data on every tag that is used on a post\n",
    "\n",
    "We will start with the Posts table, as it contains a lot of columns, following shoud be relevant to what we are seeking:\n",
    "\n",
    "* Id: An identification number for the post.\n",
    "* PostTypeId: An identification number for the type of post.\n",
    "* CreationDate: The date and time of creation of the post.\n",
    "* Score: The post's score.\n",
    "* ViewCount: How many times the post was viewed.\n",
    "* Tags: What tags were used.\n",
    "* AnswerCount: How many answers the question got (only applicable to question posts).\n",
    "* FavoriteCount: How many times the question was favored (only applicable to question posts).\n",
    "\n",
    "PostTypeId has following identification number for the type of post:\n",
    "\n",
    "![Image](https://dq-content.s3.amazonaws.com/469/PostTypes.png)\n",
    "\n",
    "There are eight different types of post, and before we figure out which are relevant to us, let's check how many of them there are:\n",
    "\n"
   ]
  },
  {
   "cell_type": "code",
   "execution_count": 178,
   "metadata": {
    "collapsed": false
   },
   "outputs": [
    {
     "ename": "SyntaxError",
     "evalue": "invalid syntax (<ipython-input-178-8994127c92a1>, line 1)",
     "output_type": "error",
     "traceback": [
      "\u001b[1;36m  File \u001b[1;32m\"<ipython-input-178-8994127c92a1>\"\u001b[1;36m, line \u001b[1;32m1\u001b[0m\n\u001b[1;33m    SELECT PostTypeId, COUNT(*) AS NrOfPosts\u001b[0m\n\u001b[1;37m                    ^\u001b[0m\n\u001b[1;31mSyntaxError\u001b[0m\u001b[1;31m:\u001b[0m invalid syntax\n"
     ]
    }
   ],
   "source": [
    "SELECT PostTypeId, COUNT(*) AS NrOfPosts\n",
    "FROM Posts\n",
    "GROUP BY PostTypeId\n",
    "ORDER BY PostTypeId;\n"
   ]
  },
  {
   "cell_type": "markdown",
   "metadata": {},
   "source": [
    "* PUT TABLE from above query\n",
    "\n",
    "As seen from the table above, anything different from questions or answers is mostly inconsequential. Even if it happens to be the case that such kind of posts is immensely popular, they would just be outliers and not relevant to us. We'll then just focus on the questions.\n",
    "\n",
    "Since we're only interested in recent posts, we'll limit our analysis to the posts of 2019. (At the time of writing it is early 2020).\n",
    "We will run the below query against the SEDE DSSE database that extracts the columns listed above for all the questions in 2019."
   ]
  },
  {
   "cell_type": "code",
   "execution_count": null,
   "metadata": {
    "collapsed": false
   },
   "outputs": [],
   "source": [
    "SELECT Id, PostTypeId, CreationDate, \n",
    "       Score, ViewCount, Tags, AnswerCount, FavoriteCount\n",
    "FROM Posts\n",
    "WHERE PostTypeId = 1 AND CreationDate LIKE '%2019%'\n",
    "ORDER BY CreationDate;"
   ]
  },
  {
   "cell_type": "markdown",
   "metadata": {},
   "source": [
    "* PUT TABLE from above query"
   ]
  },
  {
   "cell_type": "markdown",
   "metadata": {},
   "source": [
    "### Exploring the Data\n",
    "\n",
    "Data from the query was stored in a file called 2019_quesitons.csv"
   ]
  },
  {
   "cell_type": "code",
   "execution_count": 179,
   "metadata": {
    "collapsed": false
   },
   "outputs": [],
   "source": [
    "# importing necessary libraries\n",
    "import numpy as np\n",
    "import pandas as pd\n",
    "import matplotlib.pyplot as plt\n",
    "import datetime as dt\n",
    "import seaborn as sns\n",
    "\n",
    "%matplotlib inline"
   ]
  },
  {
   "cell_type": "code",
   "execution_count": 180,
   "metadata": {
    "collapsed": false
   },
   "outputs": [
    {
     "name": "stdout",
     "output_type": "stream",
     "text": [
      "<class 'pandas.core.frame.DataFrame'>\n",
      "RangeIndex: 8839 entries, 0 to 8838\n",
      "Data columns (total 7 columns):\n",
      "Id               8839 non-null int64\n",
      "CreationDate     8839 non-null datetime64[ns]\n",
      "Score            8839 non-null int64\n",
      "ViewCount        8839 non-null int64\n",
      "Tags             8839 non-null object\n",
      "AnswerCount      8839 non-null int64\n",
      "FavoriteCount    1407 non-null float64\n",
      "dtypes: datetime64[ns](1), float64(1), int64(4), object(1)\n",
      "memory usage: 483.5+ KB\n"
     ]
    }
   ],
   "source": [
    "questions = pd.read_csv(\"2019_questions.csv\", parse_dates=[\"CreationDate\"])\n",
    "questions.info()"
   ]
  },
  {
   "cell_type": "markdown",
   "metadata": {},
   "source": [
    "Running the `questions.info()` gives info on number of row and column types and names. As seen all columns are fully populated except the `FavoriteCount` which is missing significant number of rows. A missing value on this column would mean that the question was not put in any of users' favorite list. Thus, we will replace missing values with 0"
   ]
  },
  {
   "cell_type": "code",
   "execution_count": null,
   "metadata": {
    "collapsed": false
   },
   "outputs": [],
   "source": [
    "questions.sample(5)"
   ]
  },
  {
   "cell_type": "code",
   "execution_count": null,
   "metadata": {
    "collapsed": false
   },
   "outputs": [],
   "source": [
    "questions[\"Tags\"].apply(lambda value: type(value)).unique()"
   ]
  },
  {
   "cell_type": "markdown",
   "metadata": {},
   "source": [
    "Tags column shows that all values are strings, however, we will clean theese into something more readable."
   ]
  },
  {
   "cell_type": "markdown",
   "metadata": {},
   "source": [
    "### Cleaning the Data"
   ]
  },
  {
   "cell_type": "markdown",
   "metadata": {
    "collapsed": true
   },
   "source": [
    "We will stard by filling in the missing values in the FavoriteCount column\n"
   ]
  },
  {
   "cell_type": "code",
   "execution_count": null,
   "metadata": {
    "collapsed": false
   },
   "outputs": [],
   "source": [
    "questions[\"FavoriteCount\"].value_counts()"
   ]
  },
  {
   "cell_type": "code",
   "execution_count": null,
   "metadata": {
    "collapsed": false
   },
   "outputs": [],
   "source": [
    "questions[\"FavoriteCount\"] = questions[\"FavoriteCount\"].fillna(0).astype(int)\n",
    "questions[\"FavoriteCount\"].value_counts()\n",
    "questions.head()"
   ]
  },
  {
   "cell_type": "markdown",
   "metadata": {},
   "source": [
    "The values in the Tags column are strings that look like this:\n",
    "\n",
    "`<machine-learning><regression><linear-regression><regularization>\"\n",
    "</regularization></linear-regression></regression></machine-learning>`\n",
    "\n",
    "\n",
    "We'll want to transform this string in something more suitable to use typical string methods. Our goal will be to transform strings like the above in something like:\n",
    "\n",
    "`\"machine-learning,regression,linear-regression,regularization\"`"
   ]
  },
  {
   "cell_type": "code",
   "execution_count": null,
   "metadata": {
    "collapsed": false
   },
   "outputs": [],
   "source": [
    "questions[\"Tags\"].head()"
   ]
  },
  {
   "cell_type": "code",
   "execution_count": null,
   "metadata": {
    "collapsed": false,
    "scrolled": true
   },
   "outputs": [],
   "source": [
    "questions[\"Tags\"] = questions[\"Tags\"].str.replace(\"^<|>$\", \"\").str.split(\"><\")\n",
    "questions.head(2)"
   ]
  },
  {
   "cell_type": "markdown",
   "metadata": {
    "collapsed": true
   },
   "source": [
    "### Most Used and Most Viewed\n",
    "\n",
    "We now focus on determining the most popular tags. We'll do so by considering two different popularity proxies: for each tag we'll count how many times the tag was used, and how many times a question with that tag was viewed.\n",
    "\n",
    "We could take into account the score, or whether or not a question is part of someone's favorite questions. These are all reasonable options to investigate; but we'll limit the focus of our research to counts and views for now."
   ]
  },
  {
   "cell_type": "code",
   "execution_count": null,
   "metadata": {
    "collapsed": false
   },
   "outputs": [],
   "source": [
    "#Counting the tags\n",
    "tag_counts = {}\n",
    "\n",
    "for tags in questions[\"Tags\"]:\n",
    "    for tag in tags:\n",
    "        if tag in tag_counts:\n",
    "            tag_counts[tag] += 1\n",
    "        else:\n",
    "            tag_counts[tag] = 1"
   ]
  },
  {
   "cell_type": "markdown",
   "metadata": {},
   "source": [
    "We will transform the dictonary into a DataFrame for easier readability and we will sort it by the number of `Count`"
   ]
  },
  {
   "cell_type": "code",
   "execution_count": null,
   "metadata": {
    "collapsed": false
   },
   "outputs": [],
   "source": [
    "tag_counts = pd.DataFrame.from_dict(tag_counts, orient=\"index\")\n",
    "tag_counts.rename(columns={0: \"Count\"}, inplace=True)\n",
    "\n",
    "most_used = tag_counts.sort_values(by=\"Count\").tail(20)\n",
    "most_used"
   ]
  },
  {
   "cell_type": "markdown",
   "metadata": {},
   "source": [
    "Limiting the threshold of top 20 tags that were used is somewhat limiting, however, looking at the spread among these tags indicates that popularity is high in comparison with the rest of the tags. Below we will visualize this data. "
   ]
  },
  {
   "cell_type": "code",
   "execution_count": null,
   "metadata": {
    "collapsed": false
   },
   "outputs": [],
   "source": [
    "most_used.plot(kind=\"barh\", color=\"purple\", figsize=(10,5))"
   ]
  },
  {
   "cell_type": "markdown",
   "metadata": {
    "collapsed": true
   },
   "source": [
    "As seen, the tags used are very broad, there are some tags which are unlikely to be useful, e.g.: `dataset`, `r`, `clustering` etc... Before investigating these further, we will use the same method to get the data for the views of every single tag used.\n",
    "\n"
   ]
  },
  {
   "cell_type": "code",
   "execution_count": null,
   "metadata": {
    "collapsed": false
   },
   "outputs": [],
   "source": [
    "#Counting the tag views\n",
    "\n",
    "tag_view_counts = {}\n",
    "\n",
    "for tags, row in questions.iterrows():\n",
    "    for tag in row[\"Tags\"]:\n",
    "        if tag in tag_view_counts:\n",
    "            tag_view_counts[tag] += row[\"ViewCount\"]\n",
    "        else:\n",
    "            tag_view_counts[tag] = row[\"ViewCount\"]\n",
    "            \n"
   ]
  },
  {
   "cell_type": "code",
   "execution_count": null,
   "metadata": {
    "collapsed": false
   },
   "outputs": [],
   "source": [
    "tag_view_counts = pd.DataFrame.from_dict(tag_view_counts, orient=\"index\")\n",
    "tag_view_counts.rename(columns={0:\"ViewCount\"}, inplace=True)\n",
    "most_viewed = tag_view_counts.sort_values(by=\"ViewCount\").tail(20)\n",
    "most_viewed.head()"
   ]
  },
  {
   "cell_type": "code",
   "execution_count": null,
   "metadata": {
    "collapsed": false
   },
   "outputs": [],
   "source": [
    "most_viewed.plot(kind=\"barh\", color=\"purple\", figsize=(10,5))"
   ]
  },
  {
   "cell_type": "markdown",
   "metadata": {
    "collapsed": true
   },
   "source": [
    "Now, let's plot these two graphs together."
   ]
  },
  {
   "cell_type": "code",
   "execution_count": null,
   "metadata": {
    "collapsed": false
   },
   "outputs": [],
   "source": [
    "fig, axes = plt.subplots(nrows=1, ncols=2)\n",
    "fig.set_size_inches((24, 10))\n",
    "most_used.plot(kind=\"barh\", ax=axes[0], subplots=True)\n",
    "most_viewed.plot(kind=\"barh\", ax=axes[1], subplots=True)"
   ]
  },
  {
   "cell_type": "markdown",
   "metadata": {},
   "source": [
    "### Relations Between Tags"
   ]
  },
  {
   "cell_type": "markdown",
   "metadata": {},
   "source": [
    "We now have two dataframes - `most_used` and `most_viewed`\n",
    "* `most_used` is a dataframe that counts how many times each of the top 20 tags was used.\n",
    "* `most_viewed` is a dataframe that counts how many times each of the top 20 tags was viewed. Looking at the results from the last exercise, we see that most top tags are present in both dataframes.\n",
    "\n",
    "Let's see what tags are in most_used, but not in most_viewed. We can identify them by the missing values in ViewCount below."
   ]
  },
  {
   "cell_type": "code",
   "execution_count": null,
   "metadata": {
    "collapsed": false
   },
   "outputs": [],
   "source": [
    "in_used = pd.merge(most_used, most_viewed, how=\"left\", left_index=True, right_index=True)\n",
    "in_used.head(10)"
   ]
  },
  {
   "cell_type": "markdown",
   "metadata": {},
   "source": [
    "Similarly, we can see which tags are in most viewed but not in most used:"
   ]
  },
  {
   "cell_type": "code",
   "execution_count": null,
   "metadata": {
    "collapsed": false
   },
   "outputs": [],
   "source": [
    "in_viewed = pd.merge(most_used, most_viewed, how=\"right\", left_index=True, right_index=True)\n",
    "in_viewed.head(10)"
   ]
  },
  {
   "cell_type": "code",
   "execution_count": null,
   "metadata": {
    "collapsed": false
   },
   "outputs": [],
   "source": [
    "questions[\"Tags\"].head()"
   ]
  },
  {
   "cell_type": "markdown",
   "metadata": {},
   "source": [
    "We can further examine the relationship between tags, when we looked at the DSSE site earlier we saw that muptile tag are being used for each post or question.\n",
    "\n",
    "For instance, looking at the graph of most-viewed tags, we know that pandas and numpy are both Python libraries and so will likely be used with the python tag. These libraries are commonly used in machine learning this it is likely to see Python, Pandas and Numpy used in relations where we have mahcine learning tag.\n",
    "We will created an empty dataframe and populate it with the unique tags.\n",
    "\n",
    "For our new dataframe we will use the most used tags as most of the other tags have been used a few times, and we want to look at the most relevant ones."
   ]
  },
  {
   "cell_type": "code",
   "execution_count": null,
   "metadata": {
    "collapsed": false
   },
   "outputs": [],
   "source": [
    "most_used_tags = list(most_used.index)\n",
    "tag_relations = pd.DataFrame(index=most_used_tags, columns=most_used_tags)\n",
    "tag_relations"
   ]
  },
  {
   "cell_type": "markdown",
   "metadata": {},
   "source": [
    "The dataframe that we created is quite large, and in order to make things easier for the human eye to understand, we will create a heatmap with just the most popular tas from `most_used`."
   ]
  },
  {
   "cell_type": "code",
   "execution_count": null,
   "metadata": {
    "collapsed": false
   },
   "outputs": [],
   "source": [
    "tags = tag_counts\n",
    "tags = list(tags.index)\n",
    "\n",
    "relation = pd.DataFrame(index=tags, columns=tags)\n",
    "relation = relation.fillna(0)"
   ]
  },
  {
   "cell_type": "code",
   "execution_count": null,
   "metadata": {
    "collapsed": false,
    "scrolled": true
   },
   "outputs": [],
   "source": [
    "for tags in questions[\"Tags\"]:\n",
    "    relation.loc[tags, tags] += 1\n",
    "    \n",
    "most = list(most_used.index)\n",
    "test = relation.loc[most, most]\n",
    "test"
   ]
  },
  {
   "cell_type": "code",
   "execution_count": null,
   "metadata": {
    "collapsed": false,
    "scrolled": false
   },
   "outputs": [],
   "source": [
    "plt.figure(figsize=(12, 8))\n",
    "sns.heatmap(test, cmap=\"Greens\", annot=False)"
   ]
  },
  {
   "cell_type": "markdown",
   "metadata": {
    "collapsed": true
   },
   "source": [
    "The heatmap created, reveals strong relationship between the most used tags and this is also represented by the dark green concentration in the bottom right corner.\n",
    "\n",
    "These relationships could just coincidental if we take `pandas` and `python` tag for instance. It is common to use pandas library while working on Data Science or Machine Learning projects and it is natural to use Python for writing the code. Thus, sometimes we might not be able to extract value from these relationships.\n",
    "\n",
    "However, looking at most used tags, we see that questions and respective tags are mainly revolving around AI, Machine Learning, Deep Learning and Python. These seem to be the areas of Data Science that are of major interest."
   ]
  },
  {
   "cell_type": "markdown",
   "metadata": {
    "collapsed": true
   },
   "source": [
    "### Domain Knowledge\n",
    "\n",
    "Analytical approach is not necessary needed or is even not the best way to tackle a problem. This is where Domai Knowledge comes in and where it can be very useful."
   ]
  },
  {
   "cell_type": "code",
   "execution_count": null,
   "metadata": {
    "collapsed": false
   },
   "outputs": [],
   "source": [
    "most_used_tags = pd.merge(left=most_used, right=most_viewed, how=\"inner\", left_index=True, right_index=True)\n",
    "most_used_tags.sort_values(\"Count\", ascending=False).head(10)\n"
   ]
  },
  {
   "cell_type": "markdown",
   "metadata": {},
   "source": [
    "We noticed that the most used tags are also the most viewed. From the top 10 tags of each, here's a list of the tags in common: python, machine-learning, deep-learning, neural-network, keras, TensorFlow, classification, scikit-learn.\n",
    "Keras, scikit-learn, TensorFlow are all Python libraries for deep learning. And deep learning is a type of neural network. This, we see that most tags are related with a central learning theme: deep learning. Thus, to answer our main question we can propose the creation of Python content based on deep learning. And again, someone with enough domain knowledge could answer that question within a glance that deep learning is the most popular topic.\n"
   ]
  },
  {
   "cell_type": "markdown",
   "metadata": {
    "collapsed": true
   },
   "source": [
    "### Just a Fad?\n",
    "\n",
    "Before we officially make our recommendation, it would be nice to solidify our findings with additional proof. More specifically, one thing that comes to mind is \"Is deep learning just a fad?\" Ideally, the content we decide to create will be the most useful for as long as possible. Could interest in deep learning be slowing down? Back to SEDE!\n",
    "\n",
    "The file all_questions.csv holds the result of the query below — this query fetches all of the questions ever asked on DSSE, their dates and tags."
   ]
  },
  {
   "cell_type": "code",
   "execution_count": null,
   "metadata": {
    "collapsed": false
   },
   "outputs": [],
   "source": [
    "SELECT id, CreationDate, Tags\n",
    "FROM posts\n",
    "WHERE PostTypeId = 1;"
   ]
  },
  {
   "cell_type": "markdown",
   "metadata": {},
   "source": [
    "We will track the interest in deep learning across time. This will include:\n",
    "    \n",
    "* Count how many deep learning questions are asked per time period.\n",
    "* The total amount of questions per time period.\n",
    "* How many deep learning questions there are relative to the total amount of questions per time period."
   ]
  },
  {
   "cell_type": "markdown",
   "metadata": {},
   "source": []
  },
  {
   "cell_type": "code",
   "execution_count": 181,
   "metadata": {
    "collapsed": false
   },
   "outputs": [],
   "source": [
    "#Reading the file into a DataFrame, and parsing the dates.\n",
    "all_q = pd.read_csv(\"all_questions.csv\", parse_dates=[\"CreationDate\"])"
   ]
  },
  {
   "cell_type": "markdown",
   "metadata": {
    "collapsed": false
   },
   "source": [
    "Cleaning the Tag column as before."
   ]
  },
  {
   "cell_type": "code",
   "execution_count": 182,
   "metadata": {
    "collapsed": false
   },
   "outputs": [
    {
     "data": {
      "text/html": [
       "<div>\n",
       "<style scoped>\n",
       "    .dataframe tbody tr th:only-of-type {\n",
       "        vertical-align: middle;\n",
       "    }\n",
       "\n",
       "    .dataframe tbody tr th {\n",
       "        vertical-align: top;\n",
       "    }\n",
       "\n",
       "    .dataframe thead th {\n",
       "        text-align: right;\n",
       "    }\n",
       "</style>\n",
       "<table border=\"1\" class=\"dataframe\">\n",
       "  <thead>\n",
       "    <tr style=\"text-align: right;\">\n",
       "      <th></th>\n",
       "      <th>Id</th>\n",
       "      <th>CreationDate</th>\n",
       "      <th>Tags</th>\n",
       "    </tr>\n",
       "  </thead>\n",
       "  <tbody>\n",
       "    <tr>\n",
       "      <th>0</th>\n",
       "      <td>45416</td>\n",
       "      <td>2019-02-12 00:36:29</td>\n",
       "      <td>[python, keras, tensorflow, cnn, probability]</td>\n",
       "    </tr>\n",
       "    <tr>\n",
       "      <th>1</th>\n",
       "      <td>45418</td>\n",
       "      <td>2019-02-12 00:50:39</td>\n",
       "      <td>[neural-network]</td>\n",
       "    </tr>\n",
       "    <tr>\n",
       "      <th>2</th>\n",
       "      <td>45422</td>\n",
       "      <td>2019-02-12 04:40:51</td>\n",
       "      <td>[python, ibm-watson, chatbot]</td>\n",
       "    </tr>\n",
       "    <tr>\n",
       "      <th>3</th>\n",
       "      <td>45426</td>\n",
       "      <td>2019-02-12 04:51:49</td>\n",
       "      <td>[keras]</td>\n",
       "    </tr>\n",
       "    <tr>\n",
       "      <th>4</th>\n",
       "      <td>45427</td>\n",
       "      <td>2019-02-12 05:08:24</td>\n",
       "      <td>[r, predictive-modeling, machine-learning-mode...</td>\n",
       "    </tr>\n",
       "  </tbody>\n",
       "</table>\n",
       "</div>"
      ],
      "text/plain": [
       "      Id        CreationDate  \\\n",
       "0  45416 2019-02-12 00:36:29   \n",
       "1  45418 2019-02-12 00:50:39   \n",
       "2  45422 2019-02-12 04:40:51   \n",
       "3  45426 2019-02-12 04:51:49   \n",
       "4  45427 2019-02-12 05:08:24   \n",
       "\n",
       "                                                Tags  \n",
       "0      [python, keras, tensorflow, cnn, probability]  \n",
       "1                                   [neural-network]  \n",
       "2                      [python, ibm-watson, chatbot]  \n",
       "3                                            [keras]  \n",
       "4  [r, predictive-modeling, machine-learning-mode...  "
      ]
     },
     "execution_count": 182,
     "metadata": {},
     "output_type": "execute_result"
    }
   ],
   "source": [
    "all_q[\"Tags\"] = all_q[\"Tags\"].str.replace(\"^<|>$\", \"\").str.split(\"><\")\n",
    "\n",
    "all_q.head()"
   ]
  },
  {
   "cell_type": "markdown",
   "metadata": {
    "collapsed": true
   },
   "source": [
    "First, we will establishe which tags constitue a deep learning tags. \n",
    "We will use following list of tags, that believe correspond best to the deep learning. It is based on the `most_used` tag list:\n",
    "\n",
    "`[\"lstm\", \"cnn\", \"scikit-learn\", \"tensorflow\", \"keras\", \"neural-network\", \"deep-learning\"]`\n",
    "    \n",
    "Below function will assign 1 if question is related to deep learning and if not it will mark all other questions as 0."
   ]
  },
  {
   "cell_type": "code",
   "execution_count": 183,
   "metadata": {
    "collapsed": false
   },
   "outputs": [],
   "source": [
    "deep_learning_tags = [\"lstm\", \"cnn\", \"scikit-learn\", \"tensorflow\", \"keras\", \"neural-network\", \"deep-learning\"]\n",
    "def deep_learning(tags):\n",
    "    for tag in tags:\n",
    "        if tag in deep_learning_tags:\n",
    "            return 1\n",
    "            return 0"
   ]
  },
  {
   "cell_type": "code",
   "execution_count": 184,
   "metadata": {
    "collapsed": false
   },
   "outputs": [
    {
     "data": {
      "text/html": [
       "<div>\n",
       "<style scoped>\n",
       "    .dataframe tbody tr th:only-of-type {\n",
       "        vertical-align: middle;\n",
       "    }\n",
       "\n",
       "    .dataframe tbody tr th {\n",
       "        vertical-align: top;\n",
       "    }\n",
       "\n",
       "    .dataframe thead th {\n",
       "        text-align: right;\n",
       "    }\n",
       "</style>\n",
       "<table border=\"1\" class=\"dataframe\">\n",
       "  <thead>\n",
       "    <tr style=\"text-align: right;\">\n",
       "      <th></th>\n",
       "      <th>Id</th>\n",
       "      <th>CreationDate</th>\n",
       "      <th>Tags</th>\n",
       "      <th>DeepLearning</th>\n",
       "    </tr>\n",
       "  </thead>\n",
       "  <tbody>\n",
       "    <tr>\n",
       "      <th>0</th>\n",
       "      <td>45416</td>\n",
       "      <td>2019-02-12 00:36:29</td>\n",
       "      <td>[python, keras, tensorflow, cnn, probability]</td>\n",
       "      <td>1.0</td>\n",
       "    </tr>\n",
       "    <tr>\n",
       "      <th>1</th>\n",
       "      <td>45418</td>\n",
       "      <td>2019-02-12 00:50:39</td>\n",
       "      <td>[neural-network]</td>\n",
       "      <td>1.0</td>\n",
       "    </tr>\n",
       "    <tr>\n",
       "      <th>2</th>\n",
       "      <td>45422</td>\n",
       "      <td>2019-02-12 04:40:51</td>\n",
       "      <td>[python, ibm-watson, chatbot]</td>\n",
       "      <td>NaN</td>\n",
       "    </tr>\n",
       "    <tr>\n",
       "      <th>3</th>\n",
       "      <td>45426</td>\n",
       "      <td>2019-02-12 04:51:49</td>\n",
       "      <td>[keras]</td>\n",
       "      <td>1.0</td>\n",
       "    </tr>\n",
       "    <tr>\n",
       "      <th>4</th>\n",
       "      <td>45427</td>\n",
       "      <td>2019-02-12 05:08:24</td>\n",
       "      <td>[r, predictive-modeling, machine-learning-mode...</td>\n",
       "      <td>NaN</td>\n",
       "    </tr>\n",
       "  </tbody>\n",
       "</table>\n",
       "</div>"
      ],
      "text/plain": [
       "      Id        CreationDate  \\\n",
       "0  45416 2019-02-12 00:36:29   \n",
       "1  45418 2019-02-12 00:50:39   \n",
       "2  45422 2019-02-12 04:40:51   \n",
       "3  45426 2019-02-12 04:51:49   \n",
       "4  45427 2019-02-12 05:08:24   \n",
       "\n",
       "                                                Tags  DeepLearning  \n",
       "0      [python, keras, tensorflow, cnn, probability]           1.0  \n",
       "1                                   [neural-network]           1.0  \n",
       "2                      [python, ibm-watson, chatbot]           NaN  \n",
       "3                                            [keras]           1.0  \n",
       "4  [r, predictive-modeling, machine-learning-mode...           NaN  "
      ]
     },
     "execution_count": 184,
     "metadata": {},
     "output_type": "execute_result"
    }
   ],
   "source": [
    "all_q[\"DeepLearning\"] = all_q[\"Tags\"].apply(deep_learning)\n",
    "all_q.head()"
   ]
  },
  {
   "cell_type": "markdown",
   "metadata": {},
   "source": [
    "We have to decided on a usefult time period. As Data Science technology is not changing weekly or montly, we can deduct that maybe it is usefuly to track changes quarterly or half a year."
   ]
  },
  {
   "cell_type": "markdown",
   "metadata": {},
   "source": [
    "We see that or data goes as far as January 2020, thus, if we are comparing changes quarterly we will exclude this last month."
   ]
  },
  {
   "cell_type": "code",
   "execution_count": 185,
   "metadata": {
    "collapsed": false,
    "scrolled": false
   },
   "outputs": [],
   "source": [
    "all_q = all_q[all_q[\"CreationDate\"].dt.year < 2020]"
   ]
  },
  {
   "cell_type": "markdown",
   "metadata": {
    "collapsed": true
   },
   "source": [
    "Below,  new colum will be created which corresponds to the quarter in which the question was asked."
   ]
  },
  {
   "cell_type": "code",
   "execution_count": 215,
   "metadata": {
    "collapsed": false,
    "scrolled": true
   },
   "outputs": [
    {
     "data": {
      "text/html": [
       "<div>\n",
       "<style scoped>\n",
       "    .dataframe tbody tr th:only-of-type {\n",
       "        vertical-align: middle;\n",
       "    }\n",
       "\n",
       "    .dataframe tbody tr th {\n",
       "        vertical-align: top;\n",
       "    }\n",
       "\n",
       "    .dataframe thead th {\n",
       "        text-align: right;\n",
       "    }\n",
       "</style>\n",
       "<table border=\"1\" class=\"dataframe\">\n",
       "  <thead>\n",
       "    <tr style=\"text-align: right;\">\n",
       "      <th></th>\n",
       "      <th>Id</th>\n",
       "      <th>CreationDate</th>\n",
       "      <th>Tags</th>\n",
       "      <th>DeepLearning</th>\n",
       "      <th>Quarter</th>\n",
       "    </tr>\n",
       "  </thead>\n",
       "  <tbody>\n",
       "    <tr>\n",
       "      <th>0</th>\n",
       "      <td>45416</td>\n",
       "      <td>2019-02-12 00:36:29</td>\n",
       "      <td>[python, keras, tensorflow, cnn, probability]</td>\n",
       "      <td>1.0</td>\n",
       "      <td>19Q1</td>\n",
       "    </tr>\n",
       "    <tr>\n",
       "      <th>1</th>\n",
       "      <td>45418</td>\n",
       "      <td>2019-02-12 00:50:39</td>\n",
       "      <td>[neural-network]</td>\n",
       "      <td>1.0</td>\n",
       "      <td>19Q1</td>\n",
       "    </tr>\n",
       "    <tr>\n",
       "      <th>2</th>\n",
       "      <td>45422</td>\n",
       "      <td>2019-02-12 04:40:51</td>\n",
       "      <td>[python, ibm-watson, chatbot]</td>\n",
       "      <td>NaN</td>\n",
       "      <td>19Q1</td>\n",
       "    </tr>\n",
       "    <tr>\n",
       "      <th>3</th>\n",
       "      <td>45426</td>\n",
       "      <td>2019-02-12 04:51:49</td>\n",
       "      <td>[keras]</td>\n",
       "      <td>1.0</td>\n",
       "      <td>19Q1</td>\n",
       "    </tr>\n",
       "    <tr>\n",
       "      <th>4</th>\n",
       "      <td>45427</td>\n",
       "      <td>2019-02-12 05:08:24</td>\n",
       "      <td>[r, predictive-modeling, machine-learning-mode...</td>\n",
       "      <td>NaN</td>\n",
       "      <td>19Q1</td>\n",
       "    </tr>\n",
       "  </tbody>\n",
       "</table>\n",
       "</div>"
      ],
      "text/plain": [
       "      Id        CreationDate  \\\n",
       "0  45416 2019-02-12 00:36:29   \n",
       "1  45418 2019-02-12 00:50:39   \n",
       "2  45422 2019-02-12 04:40:51   \n",
       "3  45426 2019-02-12 04:51:49   \n",
       "4  45427 2019-02-12 05:08:24   \n",
       "\n",
       "                                                Tags  DeepLearning Quarter  \n",
       "0      [python, keras, tensorflow, cnn, probability]           1.0    19Q1  \n",
       "1                                   [neural-network]           1.0    19Q1  \n",
       "2                      [python, ibm-watson, chatbot]           NaN    19Q1  \n",
       "3                                            [keras]           1.0    19Q1  \n",
       "4  [r, predictive-modeling, machine-learning-mode...           NaN    19Q1  "
      ]
     },
     "execution_count": 215,
     "metadata": {},
     "output_type": "execute_result"
    }
   ],
   "source": [
    "def tags_quarter(dt):\n",
    "    year = str(dt.year)[-2:]\n",
    "    quarter = str(((dt.month-1) // 3) + 1)\n",
    "    return \"{y}Q{q}\".format(y=year, q=quarter)\n",
    "\n",
    "all_q[\"Quarter\"] = all_q[\"CreationDate\"].apply(tags_quarter)\n",
    "all_q.head()"
   ]
  },
  {
   "cell_type": "markdown",
   "metadata": {},
   "source": [
    "Now what is left is to group by quarter as this is the timewindow we chose, additionally:\n",
    "\n",
    "* Count how many deep learning questions are asked per time period.\n",
    "\n",
    "* The total amount of questions per time period.\n",
    "\n",
    "* How many deep learning questions there are relative to the total amount of questions per time period."
   ]
  },
  {
   "cell_type": "code",
   "execution_count": 216,
   "metadata": {
    "collapsed": false
   },
   "outputs": [],
   "source": [
    "quarterly = all_q.groupby(\"Quarter\").agg({\"DeepLearning\": [\"sum\", \"size\"]})"
   ]
  },
  {
   "cell_type": "code",
   "execution_count": 217,
   "metadata": {
    "collapsed": false
   },
   "outputs": [
    {
     "data": {
      "text/html": [
       "<div>\n",
       "<style scoped>\n",
       "    .dataframe tbody tr th:only-of-type {\n",
       "        vertical-align: middle;\n",
       "    }\n",
       "\n",
       "    .dataframe tbody tr th {\n",
       "        vertical-align: top;\n",
       "    }\n",
       "\n",
       "    .dataframe thead th {\n",
       "        text-align: right;\n",
       "    }\n",
       "</style>\n",
       "<table border=\"1\" class=\"dataframe\">\n",
       "  <thead>\n",
       "    <tr style=\"text-align: right;\">\n",
       "      <th></th>\n",
       "      <th>Quarter</th>\n",
       "      <th>DeepLearningQuestions</th>\n",
       "      <th>TotalQuestions</th>\n",
       "      <th>DeepLearningRate%</th>\n",
       "    </tr>\n",
       "  </thead>\n",
       "  <tbody>\n",
       "    <tr>\n",
       "      <th>18</th>\n",
       "      <td>18Q4</td>\n",
       "      <td>531.0</td>\n",
       "      <td>1294</td>\n",
       "      <td>41</td>\n",
       "    </tr>\n",
       "    <tr>\n",
       "      <th>19</th>\n",
       "      <td>19Q1</td>\n",
       "      <td>804.0</td>\n",
       "      <td>1987</td>\n",
       "      <td>40</td>\n",
       "    </tr>\n",
       "    <tr>\n",
       "      <th>20</th>\n",
       "      <td>19Q2</td>\n",
       "      <td>935.0</td>\n",
       "      <td>2393</td>\n",
       "      <td>39</td>\n",
       "    </tr>\n",
       "    <tr>\n",
       "      <th>21</th>\n",
       "      <td>19Q3</td>\n",
       "      <td>941.0</td>\n",
       "      <td>2394</td>\n",
       "      <td>39</td>\n",
       "    </tr>\n",
       "    <tr>\n",
       "      <th>22</th>\n",
       "      <td>19Q4</td>\n",
       "      <td>809.0</td>\n",
       "      <td>2036</td>\n",
       "      <td>39</td>\n",
       "    </tr>\n",
       "  </tbody>\n",
       "</table>\n",
       "</div>"
      ],
      "text/plain": [
       "   Quarter  DeepLearningQuestions  TotalQuestions  DeepLearningRate%\n",
       "18    18Q4                  531.0            1294                 41\n",
       "19    19Q1                  804.0            1987                 40\n",
       "20    19Q2                  935.0            2393                 39\n",
       "21    19Q3                  941.0            2394                 39\n",
       "22    19Q4                  809.0            2036                 39"
      ]
     },
     "execution_count": 217,
     "metadata": {},
     "output_type": "execute_result"
    }
   ],
   "source": [
    "quarterly.columns = [\"DeepLearningQuestions\", \"TotalQuestions\"]\n",
    "quarterly[\"DeepLearningRate%\"] = (quarterly[\"DeepLearningQuestions\"] / quarterly[\"TotalQuestions\"]) * 100\n",
    "quarterly.reset_index(inplace=True)\n",
    "quarterly[\"DeepLearningRate%\"] = quarterly[\"DeepLearningRate%\"].astype(int)\n",
    "quarterly.tail()"
   ]
  },
  {
   "cell_type": "markdown",
   "metadata": {
    "collapsed": true
   },
   "source": [
    "Plotting this on a graph would show any differencies between the quarters and corresponding deep learnign questions. So let's plot this data."
   ]
  },
  {
   "cell_type": "code",
   "execution_count": 227,
   "metadata": {
    "collapsed": false
   },
   "outputs": [
    {
     "data": {
      "image/png": "[encoded data removed]",
      "text/plain": [
       "<matplotlib.figure.Figure at 0x7ff76fdcbcf8>"
      ]
     },
     "metadata": {},
     "output_type": "display_data"
    }
   ],
   "source": [
    "ax1 = quarterly.plot(kind=\"line\", x=\"Quarter\", y=\"DeepLearningRate%\",\n",
    "                     marker=\"o\", color=\"orange\", figsize=(24,12))\n",
    "\n",
    "ax2 = quarterly.plot(kind=\"bar\", x=\"Quarter\", y=\"TotalQuestions\", color=\"steelblue\",\n",
    "                    ax=ax1, secondary_y=True, alpha=0.7, rot=45)\n",
    "#bar labels\n",
    "for bars, t in quarterly[\"TotalQuestions\"].iteritems():\n",
    "    ax2.text(bars, t, t, ha=\"center\", va=\"bottom\")\n",
    "\n",
    "xlims = ax1.get_xlim()\n",
    "\n",
    "#creating legend\n",
    "handles1, labels1 = ax1.get_legend_handles_labels()\n",
    "handles2, labels2 = ax2.get_legend_handles_labels()\n",
    "ax1.legend(handles=handles1 + handles2, labels=labels1 + labels2,\n",
    "          loc=\"upper left\", prop={\"size\": 12})\n",
    "\n",
    "for ax in (ax1, ax2):\n",
    "    for where in (\"top\", \"right\"):\n",
    "        ax.spines[where].set_visible(False)\n",
    "        ax.tick_params(right=False, labelright=False)\n",
    "        "
   ]
  },
  {
   "cell_type": "markdown",
   "metadata": {
    "collapsed": true
   },
   "source": [
    "After we visialised the data it is now more clear that there is a significant increase from 2015 onwards in the deep learning questions. Surge in these question has increased from 10% of the total questions to almost 30 - and even 40% by the end of time period show or end of 2018.\n",
    "\n",
    "Based on the facts we can conclude that we will prepare a learning content which includes Deel learning question"
   ]
  },
  {
   "cell_type": "code",
   "execution_count": null,
   "metadata": {
    "collapsed": true
   },
   "outputs": [],
   "source": []
  }
 ],
 "metadata": {
  "kernelspec": {
   "display_name": "Python 3",
   "language": "python",
   "name": "python3"
  },
  "language_info": {
   "codemirror_mode": {
    "name": "ipython",
    "version": 3
   },
   "file_extension": ".py",
   "mimetype": "text/x-python",
   "name": "python",
   "nbconvert_exporter": "python",
   "pygments_lexer": "ipython3",
   "version": "3.4.3"
  }
 },
 "nbformat": 4,
 "nbformat_minor": 2
}
